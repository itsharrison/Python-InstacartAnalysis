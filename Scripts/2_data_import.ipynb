{
 "cells": [
  {
   "cell_type": "markdown",
   "id": "7b39496b-c960-4975-a13f-e04c670e9e07",
   "metadata": {},
   "source": [
    "# 01. Importing libraries"
   ]
  },
  {
   "cell_type": "code",
   "execution_count": 8,
   "id": "fa89a579-7b76-4369-9783-65d2f1c4822c",
   "metadata": {},
   "outputs": [],
   "source": [
    "# Import libraries\n",
    "import pandas as pd\n",
    "import numpy as np\n",
    "import os"
   ]
  },
  {
   "cell_type": "markdown",
   "id": "e953418b-6168-44c9-ab2b-f71d4ff9ca18",
   "metadata": {},
   "source": [
    "# 02. Importing data "
   ]
  },
  {
   "cell_type": "code",
   "execution_count": 9,
   "id": "308c1510-9776-4a44-8164-a6d0955d51b2",
   "metadata": {},
   "outputs": [],
   "source": [
    "# Import data\n",
    "path = r\"C:\\Users\\enthu\\Desktop\\Bootcamps\\Instacart Basket Analysis\""
   ]
  },
  {
   "cell_type": "code",
   "execution_count": 10,
   "id": "196c7d7e-8ec8-48b9-a140-138e76d0c679",
   "metadata": {
    "scrolled": true
   },
   "outputs": [
    {
     "data": {
      "text/plain": [
       "'C:\\\\Users\\\\enthu\\\\Desktop\\\\Bootcamps\\\\Instacart Basket Analysis'"
      ]
     },
     "execution_count": 10,
     "metadata": {},
     "output_type": "execute_result"
    }
   ],
   "source": [
    "path"
   ]
  },
  {
   "cell_type": "code",
   "execution_count": 11,
   "id": "35a0a6aa-88df-43e5-b18c-f6d2dd5e2e28",
   "metadata": {},
   "outputs": [],
   "source": [
    "df = pd.read_csv(os.path.join(path, \"Data\", \"Original Data\", \"orders.csv\"), index_col = False)"
   ]
  },
  {
   "cell_type": "code",
   "execution_count": null,
   "id": "b5a051a9-180a-4684-a903-d5b7e40ec52d",
   "metadata": {},
   "outputs": [],
   "source": [
    "# A list of all columns\n",
    "df.columns"
   ]
  },
  {
   "cell_type": "code",
   "execution_count": null,
   "id": "349f9857-84de-4b4b-ba5c-b0f205b49ca5",
   "metadata": {},
   "outputs": [],
   "source": [
    "# A list of the included columns\n",
    "vars_list = [\"order_id\", \"user_id\", \"order_number\", \"order_dow\", \"order_hour_of_day\", \"days_since_prior_order\"]"
   ]
  },
  {
   "cell_type": "code",
   "execution_count": null,
   "id": "0b88b713-c8e2-4cee-907a-0d713f431b7f",
   "metadata": {},
   "outputs": [],
   "source": [
    "vars_list"
   ]
  },
  {
   "cell_type": "code",
   "execution_count": null,
   "id": "18c244d3-1771-4b62-a0d7-f206d9a89779",
   "metadata": {},
   "outputs": [],
   "source": [
    "# Import data with only the needed columns\n",
    "df = pd.read_csv(os.path.join(path, \"Data\", \"Original Data\", \"orders.csv\"), usecols = vars_list)"
   ]
  },
  {
   "cell_type": "code",
   "execution_count": null,
   "id": "ec71621f-5523-47ec-88ca-c62695131066",
   "metadata": {},
   "outputs": [],
   "source": [
    "# First 5 rows\n",
    "df.head(5)"
   ]
  },
  {
   "cell_type": "code",
   "execution_count": null,
   "id": "c6461248-80b9-4dc1-84f4-30801a9f001e",
   "metadata": {},
   "outputs": [],
   "source": [
    "# Import the second set of data\n",
    "df_prods = pd.read_csv(os.path.join(path, \"Data\", \"Original Data\", \"products.csv\"), index_col = False)"
   ]
  },
  {
   "cell_type": "code",
   "execution_count": null,
   "id": "cf07bbfc-e1c2-44ab-95f4-5dac759df4f2",
   "metadata": {},
   "outputs": [],
   "source": [
    "# First 20 rows\n",
    "df_prods.head(20)"
   ]
  },
  {
   "cell_type": "code",
   "execution_count": null,
   "id": "4ec15062-1ece-40bb-95ed-28dabaa5e773",
   "metadata": {},
   "outputs": [],
   "source": [
    "#Last 35 rows\n",
    "df_prods.tail(35)"
   ]
  },
  {
   "cell_type": "code",
   "execution_count": null,
   "id": "a4b7e7b1-6d94-4be5-b9bf-e741c19e5669",
   "metadata": {},
   "outputs": [],
   "source": [
    "# A list of all columns\n",
    "df_prods.columns"
   ]
  },
  {
   "cell_type": "code",
   "execution_count": null,
   "id": "575eced8-39df-4ad8-a8e2-98ef9bf0aa86",
   "metadata": {},
   "outputs": [],
   "source": [
    "# The number of rows and columns\n",
    "df_prods.shape"
   ]
  },
  {
   "cell_type": "markdown",
   "id": "288ca6fa-d185-40a6-961e-489cab6d6cd0",
   "metadata": {},
   "source": [
    "# 03. What’s the maximum value of the “aisle_id” column?"
   ]
  },
  {
   "cell_type": "code",
   "execution_count": null,
   "id": "620b3042-d25d-4c7c-ba52-b6ab09e4921d",
   "metadata": {},
   "outputs": [],
   "source": [
    "# Descriptive statistics\n",
    "df_prods.describe()"
   ]
  },
  {
   "cell_type": "markdown",
   "id": "65326860-70e1-4243-be8d-2871c92cecb1",
   "metadata": {},
   "source": [
    "Answer: the maximum value is 134."
   ]
  },
  {
   "cell_type": "markdown",
   "id": "680004f6-0950-4440-9597-f164bdc6750e",
   "metadata": {},
   "source": [
    "# 04. What’s the data type of the “department_id” column?"
   ]
  },
  {
   "cell_type": "code",
   "execution_count": null,
   "id": "7a5e94ec-71e1-44fb-bfcb-d7b418f00330",
   "metadata": {},
   "outputs": [],
   "source": [
    "# Data types\n",
    "df_prods.dtypes"
   ]
  },
  {
   "cell_type": "markdown",
   "id": "a0b76008-8c3e-4bd6-829c-cb92edd25b09",
   "metadata": {},
   "source": [
    "Answer: the data type is int64."
   ]
  },
  {
   "cell_type": "code",
   "execution_count": null,
   "id": "62ea13e2-363f-47e3-abb0-f2ac095be0a7",
   "metadata": {},
   "outputs": [],
   "source": []
  }
 ],
 "metadata": {
  "kernelspec": {
   "display_name": "Python 3 (ipykernel)",
   "language": "python",
   "name": "python3"
  },
  "language_info": {
   "codemirror_mode": {
    "name": "ipython",
    "version": 3
   },
   "file_extension": ".py",
   "mimetype": "text/x-python",
   "name": "python",
   "nbconvert_exporter": "python",
   "pygments_lexer": "ipython3",
   "version": "3.11.7"
  }
 },
 "nbformat": 4,
 "nbformat_minor": 5
}
