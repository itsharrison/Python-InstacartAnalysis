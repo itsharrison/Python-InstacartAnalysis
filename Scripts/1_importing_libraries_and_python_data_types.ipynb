{
 "cells": [
  {
   "cell_type": "markdown",
   "id": "2fd28842-438a-4962-821d-0a24ec103f86",
   "metadata": {},
   "source": [
    "# 01. Importing libraries "
   ]
  },
  {
   "cell_type": "code",
   "execution_count": 1,
   "id": "7e7a530e-c24f-4424-82f0-464bd026936d",
   "metadata": {},
   "outputs": [],
   "source": [
    "# Import libraries\n",
    "import pandas as pd\n",
    "import numpy as np\n",
    "import os"
   ]
  },
  {
   "cell_type": "markdown",
   "id": "efbddfee-6a84-448d-8163-c2d309d86fcd",
   "metadata": {},
   "source": [
    "# 02. Data types"
   ]
  },
  {
   "cell_type": "code",
   "execution_count": 2,
   "id": "2fe89812-5e02-463f-973b-c8f438aeba29",
   "metadata": {},
   "outputs": [],
   "source": [
    "# Three different ways of reching a result of 100\n",
    "x = 45\n",
    "y = 55\n",
    "z = 10"
   ]
  },
  {
   "cell_type": "code",
   "execution_count": 3,
   "id": "dfb11aed-1fa1-4784-88e9-b86b34e4c0b6",
   "metadata": {},
   "outputs": [
    {
     "data": {
      "text/plain": [
       "100"
      ]
     },
     "execution_count": 3,
     "metadata": {},
     "output_type": "execute_result"
    }
   ],
   "source": [
    "# First way\n",
    "x + y"
   ]
  },
  {
   "cell_type": "code",
   "execution_count": 6,
   "id": "5dc20063-cd23-4e4f-a189-b3f88f8aefdd",
   "metadata": {},
   "outputs": [
    {
     "data": {
      "text/plain": [
       "100"
      ]
     },
     "execution_count": 6,
     "metadata": {},
     "output_type": "execute_result"
    }
   ],
   "source": [
    "# Second way\n",
    "(y - x) * 10"
   ]
  },
  {
   "cell_type": "code",
   "execution_count": 7,
   "id": "f4c33974-171e-4e53-abed-1fd3cd279fe6",
   "metadata": {},
   "outputs": [
    {
     "data": {
      "text/plain": [
       "100"
      ]
     },
     "execution_count": 7,
     "metadata": {},
     "output_type": "execute_result"
    }
   ],
   "source": [
    "# Third way\n",
    "y * 2 - z"
   ]
  },
  {
   "cell_type": "code",
   "execution_count": 8,
   "id": "1757d1c8-b341-4adc-9423-1f74c01f2d47",
   "metadata": {},
   "outputs": [],
   "source": [
    "# Floating point variables\n",
    "x = 1.5\n",
    "y = 2.5"
   ]
  },
  {
   "cell_type": "code",
   "execution_count": 9,
   "id": "5bde02d9-6899-409d-87c3-09421d543171",
   "metadata": {},
   "outputs": [
    {
     "data": {
      "text/plain": [
       "0.6"
      ]
     },
     "execution_count": 9,
     "metadata": {},
     "output_type": "execute_result"
    }
   ],
   "source": [
    "# Dividing them\n",
    "x / y "
   ]
  },
  {
   "cell_type": "code",
   "execution_count": 13,
   "id": "e545e3a3-d82c-48ba-a674-674b827946c1",
   "metadata": {},
   "outputs": [],
   "source": [
    "# Separate strings\n",
    "a = \"He\"\n",
    "b = \" likes\"\n",
    "c = \" basketball\"\n",
    "d = \"She\"\n",
    "e = \" swimming\""
   ]
  },
  {
   "cell_type": "code",
   "execution_count": 15,
   "id": "68e99812-e16d-4fe0-bafd-6a3f15bc130d",
   "metadata": {},
   "outputs": [
    {
     "data": {
      "text/plain": [
       "'He likes basketball'"
      ]
     },
     "execution_count": 15,
     "metadata": {},
     "output_type": "execute_result"
    }
   ],
   "source": [
    "# First short sentences\n",
    "a + b + c"
   ]
  },
  {
   "cell_type": "code",
   "execution_count": 16,
   "id": "86f5e4ea-3fdc-48c4-a14e-111be6273b0d",
   "metadata": {},
   "outputs": [
    {
     "data": {
      "text/plain": [
       "'She likes swimming'"
      ]
     },
     "execution_count": 16,
     "metadata": {},
     "output_type": "execute_result"
    }
   ],
   "source": [
    "# Second short sentences\n",
    "d + b + e"
   ]
  },
  {
   "cell_type": "code",
   "execution_count": null,
   "id": "ae48124c-0b1f-4f59-ad4a-6ae4536438f6",
   "metadata": {},
   "outputs": [],
   "source": []
  }
 ],
 "metadata": {
  "kernelspec": {
   "display_name": "Python 3 (ipykernel)",
   "language": "python",
   "name": "python3"
  },
  "language_info": {
   "codemirror_mode": {
    "name": "ipython",
    "version": 3
   },
   "file_extension": ".py",
   "mimetype": "text/x-python",
   "name": "python",
   "nbconvert_exporter": "python",
   "pygments_lexer": "ipython3",
   "version": "3.11.7"
  }
 },
 "nbformat": 4,
 "nbformat_minor": 5
}
